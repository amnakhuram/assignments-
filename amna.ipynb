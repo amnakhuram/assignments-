{
 "cells": [
  {
   "cell_type": "code",
   "execution_count": 37,
   "id": "7d278dc6",
   "metadata": {},
   "outputs": [
    {
     "name": "stdout",
     "output_type": "stream",
     "text": [
      "Q:1\n"
     ]
    }
   ],
   "source": [
    "print(\"Q:1\")"
   ]
  },
  {
   "cell_type": "code",
   "execution_count": 36,
   "id": "90034b55",
   "metadata": {},
   "outputs": [
    {
     "name": "stdout",
     "output_type": "stream",
     "text": [
      "Twinkle, twinkle, little star, \n",
      "        How I wonder what you are! \n",
      "                Up above the world so high,\n",
      "                Like a diamond in the sky.\n",
      "Twinkle,twinkle,little star, \n",
      "        How I wonder what you are\n"
     ]
    }
   ],
   "source": [
    "print(\"Twinkle, twinkle, little star, \\n        How I wonder what you are! \\n                Up above the world so high,\\n                Like a diamond in the sky.\\nTwinkle,twinkle,little star, \\n        How I wonder what you are\");"
   ]
  },
  {
   "cell_type": "code",
   "execution_count": 39,
   "id": "d14cdf10",
   "metadata": {},
   "outputs": [
    {
     "name": "stdout",
     "output_type": "stream",
     "text": [
      "Q:2\n"
     ]
    }
   ],
   "source": [
    "print(\"Q:2\")"
   ]
  },
  {
   "cell_type": "code",
   "execution_count": 40,
   "id": "761bfdf8",
   "metadata": {},
   "outputs": [
    {
     "name": "stdout",
     "output_type": "stream",
     "text": [
      "Enter your python version3\n",
      "Your Python version is 3\n"
     ]
    }
   ],
   "source": [
    "x = \"Your Python version is \";\n",
    "y = input(\"Enter your python version\");\n",
    "z = x+y\n",
    "print(z);"
   ]
  },
  {
   "cell_type": "code",
   "execution_count": 41,
   "id": "bd0b9181",
   "metadata": {},
   "outputs": [
    {
     "name": "stdout",
     "output_type": "stream",
     "text": [
      "Q:3\n"
     ]
    }
   ],
   "source": [
    "print(\"Q:3\")"
   ]
  },
  {
   "cell_type": "code",
   "execution_count": 43,
   "id": "cc691a01",
   "metadata": {},
   "outputs": [
    {
     "name": "stdout",
     "output_type": "stream",
     "text": [
      "Display Current time 6:47am\n",
      "Display Current date 23 October 2021\n"
     ]
    }
   ],
   "source": [
    "CurrentTime = input(\"Display Current time \");\n",
    "currentDate = input(\"Display Current date \");"
   ]
  },
  {
   "cell_type": "code",
   "execution_count": 44,
   "id": "ebdfcd51",
   "metadata": {},
   "outputs": [
    {
     "name": "stdout",
     "output_type": "stream",
     "text": [
      "Q:4\n"
     ]
    }
   ],
   "source": [
    "print(\"Q:4\")"
   ]
  },
  {
   "cell_type": "code",
   "execution_count": 54,
   "id": "50f0c4b6",
   "metadata": {},
   "outputs": [
    {
     "name": "stdout",
     "output_type": "stream",
     "text": [
      "enter the radius of the circle 6\n",
      "113.14285714285714\n"
     ]
    }
   ],
   "source": [
    "pie=22/7;\n",
    "r=int(input(\"enter the radius of the circle \"));\n",
    "area = pie * r**2;\n",
    "print(area);"
   ]
  },
  {
   "cell_type": "code",
   "execution_count": 55,
   "id": "3d194d7f",
   "metadata": {},
   "outputs": [
    {
     "name": "stdout",
     "output_type": "stream",
     "text": [
      "Q:5\n"
     ]
    }
   ],
   "source": [
    "print(\"Q:5\")"
   ]
  },
  {
   "cell_type": "code",
   "execution_count": 58,
   "id": "078e3ada",
   "metadata": {},
   "outputs": [
    {
     "name": "stdout",
     "output_type": "stream",
     "text": [
      "Your first name AMNA \n",
      "Your second name KHURRAM  \n",
      "KHURRAM  AMNA \n"
     ]
    }
   ],
   "source": [
    "a = input(\"Your first name \");\n",
    "b = input(\"Your second name \");\n",
    "username = b + a;\n",
    "print(username);"
   ]
  },
  {
   "cell_type": "code",
   "execution_count": 61,
   "id": "76fb2c04",
   "metadata": {},
   "outputs": [
    {
     "name": "stdout",
     "output_type": "stream",
     "text": [
      "Q:6\n"
     ]
    }
   ],
   "source": [
    "print(\"Q:6\")"
   ]
  },
  {
   "cell_type": "code",
   "execution_count": 64,
   "id": "3b9457cf",
   "metadata": {},
   "outputs": [
    {
     "name": "stdout",
     "output_type": "stream",
     "text": [
      "Enter any value 1000\n",
      "Enter the other value 200\n",
      "1200\n"
     ]
    }
   ],
   "source": [
    "firstvalue = int(input(\"Enter any value \"));\n",
    "secondvalue = int(input(\"Enter the other value \"));\n",
    "Sum = firstvalue + secondvalue ;\n",
    "print(Sum);"
   ]
  },
  {
   "cell_type": "code",
   "execution_count": 65,
   "id": "873abc85",
   "metadata": {},
   "outputs": [
    {
     "name": "stdout",
     "output_type": "stream",
     "text": [
      "Q:7\n"
     ]
    }
   ],
   "source": [
    "print(\"Q:7\")"
   ]
  },
  {
   "cell_type": "code",
   "execution_count": 66,
   "id": "fb19c0a8",
   "metadata": {},
   "outputs": [
    {
     "name": "stdout",
     "output_type": "stream",
     "text": [
      "Your physics subject numbers82\n",
      "Your chemistry subject numbers79\n",
      "Your maths subject numbers97\n",
      "Your biology subject numbers80\n",
      "Your arabic subject numbers49\n",
      "387\n"
     ]
    }
   ],
   "source": [
    "Physics = int(input(\"Your physics subject numbers\"));\n",
    "Chemistry = int(input(\"Your chemistry subject numbers\"));\n",
    "Maths = int(input(\"Your maths subject numbers\"));\n",
    "Biology = int(input(\"Your biology subject numbers\"));\n",
    "Arabic = int(input(\"Your arabic subject numbers\"));\n",
    "obtainednumbers = Physics + Chemistry + Maths + Biology + Arabic;\n",
    "print(obtainednumbers);"
   ]
  },
  {
   "cell_type": "code",
   "execution_count": 67,
   "id": "ac3f6509",
   "metadata": {},
   "outputs": [
    {
     "name": "stdout",
     "output_type": "stream",
     "text": [
      "Grade A+\n"
     ]
    }
   ],
   "source": [
    "percent = obtainednumbers/450 *100;\n",
    "if percent<100 and percent>80:\n",
    "    print(\"Grade A+\");\n",
    "elif percent<80 and percent>70:\n",
    "    print(\"Grade A\");\n",
    "elif percent<70 and percent>60:\n",
    "    print(\"Grade B\");\n",
    "elif percent<60 and percent>50:\n",
    "    print(\"Grade C\");\n",
    "elif percent<50 and percent>40:\n",
    "    print(\"Grade D\");\n",
    "elif percent<40 and percent>33:\n",
    "    print(\"Grade E\");\n",
    "else:\n",
    "    print(\"Fail\");"
   ]
  },
  {
   "cell_type": "code",
   "execution_count": 68,
   "id": "6ce5704a",
   "metadata": {},
   "outputs": [
    {
     "name": "stdout",
     "output_type": "stream",
     "text": [
      "Q:8\n"
     ]
    }
   ],
   "source": [
    "print(\"Q:8\")"
   ]
  },
  {
   "cell_type": "code",
   "execution_count": 69,
   "id": "39f463c9",
   "metadata": {},
   "outputs": [
    {
     "name": "stdout",
     "output_type": "stream",
     "text": [
      "Enter any value 200\n",
      "even\n"
     ]
    }
   ],
   "source": [
    "value = int(input(\"Enter any value \"));\n",
    "if value/2:\n",
    "    print(\"even\");\n",
    "else:\n",
    "    print(\"odd\");"
   ]
  },
  {
   "cell_type": "code",
   "execution_count": 70,
   "id": "55d66b6a",
   "metadata": {},
   "outputs": [
    {
     "name": "stdout",
     "output_type": "stream",
     "text": [
      "Q:9\n"
     ]
    }
   ],
   "source": [
    "print(\"Q:9\")"
   ]
  },
  {
   "cell_type": "code",
   "execution_count": 75,
   "id": "fb9c8a75",
   "metadata": {},
   "outputs": [
    {
     "name": "stdout",
     "output_type": "stream",
     "text": [
      "Number of items in the list=  6\n"
     ]
    }
   ],
   "source": [
    "#list\n",
    "\n",
    "numbers = [\"2\", \"4\", \"6\", \"8\", \"10\", \"12\"];\n",
    "print(\"Number of items in the list= \",len(numbers));"
   ]
  },
  {
   "cell_type": "code",
   "execution_count": 76,
   "id": "4cf35bff",
   "metadata": {},
   "outputs": [
    {
     "name": "stdout",
     "output_type": "stream",
     "text": [
      "Q:10\n"
     ]
    }
   ],
   "source": [
    "print(\"Q:10\")"
   ]
  },
  {
   "cell_type": "code",
   "execution_count": 77,
   "id": "7ecb229e",
   "metadata": {},
   "outputs": [
    {
     "name": "stdout",
     "output_type": "stream",
     "text": [
      "The sum of numbers =  500\n"
     ]
    }
   ],
   "source": [
    "values = [200, 100, 100, 100];\n",
    "print(\"The sum of numbers = \",sum(values));"
   ]
  },
  {
   "cell_type": "code",
   "execution_count": null,
   "id": "ca797430",
   "metadata": {},
   "outputs": [],
   "source": []
  }
 ],
 "metadata": {
  "kernelspec": {
   "display_name": "Python 3",
   "language": "python",
   "name": "python3"
  },
  "language_info": {
   "codemirror_mode": {
    "name": "ipython",
    "version": 3
   },
   "file_extension": ".py",
   "mimetype": "text/x-python",
   "name": "python",
   "nbconvert_exporter": "python",
   "pygments_lexer": "ipython3",
   "version": "3.8.8"
  }
 },
 "nbformat": 4,
 "nbformat_minor": 5
}
